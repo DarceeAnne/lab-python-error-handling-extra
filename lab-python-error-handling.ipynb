{
 "cells": [
  {
   "cell_type": "markdown",
   "id": "25d7736c-ba17-4aff-b6bb-66eba20fbf4e",
   "metadata": {},
   "source": [
    "# Lab | Error Handling"
   ]
  },
  {
   "cell_type": "markdown",
   "id": "6f8e446f-16b4-4e21-92e7-9d3d1eb551b6",
   "metadata": {},
   "source": [
    "Objective: Practice how to identify, handle and recover from potential errors in Python code using try-except blocks."
   ]
  },
  {
   "cell_type": "markdown",
   "id": "e253e768-aed8-4791-a800-87add1204afa",
   "metadata": {},
   "source": [
    "## Challenge \n",
    "\n",
    "Paste here your lab *functions* solutions. Apply error handling techniques to each function using try-except blocks. "
   ]
  },
  {
   "cell_type": "markdown",
   "id": "9180ff86-c3fe-4152-a609-081a287fa1af",
   "metadata": {},
   "source": [
    "The try-except block in Python is designed to handle exceptions and provide a fallback mechanism when code encounters errors. By enclosing the code that could potentially throw errors in a try block, followed by specific or general exception handling in the except block, we can gracefully recover from errors and continue program execution.\n",
    "\n",
    "However, there may be cases where an input may not produce an immediate error, but still needs to be addressed. In such situations, it can be useful to explicitly raise an error using the \"raise\" keyword, either to draw attention to the issue or handle it elsewhere in the program.\n",
    "\n",
    "Modify the code to handle possible errors in Python, it is recommended to use `try-except-else-finally` blocks, incorporate the `raise` keyword where necessary, and print meaningful error messages to alert users of any issues that may occur during program execution.\n",
    "\n"
   ]
  },
  {
   "cell_type": "code",
   "execution_count": 2,
   "id": "cc2c441d-9dcf-4817-b097-cf6cbe440846",
   "metadata": {},
   "outputs": [
    {
     "name": "stdout",
     "output_type": "stream",
     "text": [
      "Invalid input. Quantity must be a non-negative integer.\n",
      "Invalid input. Quantity must be a valid integer.\n",
      "Invalid input. Quantity must be a valid integer.\n",
      "Current inventory: {'t-shirt': 9, 'mug': 3, 'hat': 4, 'book': 5, 'keychain': 6}\n"
     ]
    }
   ],
   "source": [
    "\n",
    "\n",
    "def initialize_inventory(products):\n",
    "    inventory={}\n",
    "    for item in products:\n",
    "        while True:\n",
    "            try:\n",
    "                count = int(input(f\"How many {item} are there (enter number)? \"))\n",
    "                if count < 0:\n",
    "                    print(\"Invalid input. Quantity must be a non-negative integer.\")\n",
    "                else:\n",
    "                    inventory[item] = count\n",
    "                    break  \n",
    "            except ValueError:\n",
    "                print(\"Invalid input. Quantity must be a valid integer.\")\n",
    "    return inventory\n",
    "        \n",
    "products=[\"t-shirt\", \"mug\", \"hat\", \"book\", \"keychain\"]\n",
    "inventory = initialize_inventory(products)\n",
    "print(\"Current inventory:\", inventory)"
   ]
  },
  {
   "cell_type": "code",
   "execution_count": 5,
   "id": "3f64276f",
   "metadata": {},
   "outputs": [
    {
     "name": "stdout",
     "output_type": "stream",
     "text": [
      "Your order: ['mug', 'mug', 'mug', 'mug', 'hat', 'book', 'book', 'book', 'book', 'book', 'book']\n"
     ]
    }
   ],
   "source": [
    "#Error handling implemented in main error handling lab\n",
    "\n",
    "def get_customer_orders():\n",
    "    customer_order = []  \n",
    "    items = ['t-shirt', 'mug', 'hat', 'book', 'keychain']\n",
    "    while True:  \n",
    "        customer_order_item = input(f\"Do you want a {'/'.join(items)}? (Enter 'done' when you are finished) \").strip().lower()\n",
    "        if customer_order_item == 'done':\n",
    "            break  \n",
    "        if customer_order_item in items:\n",
    "            customer_order.append(customer_order_item)  \n",
    "        else:\n",
    "            print(\"Invalid item. Please choose from the provided list.\")\n",
    "\n",
    "    return customer_order\n",
    "\n",
    "customer_orders = get_customer_orders()\n",
    "print(\"Your order:\", customer_orders)"
   ]
  },
  {
   "cell_type": "code",
   "execution_count": 6,
   "id": "1c5fa552",
   "metadata": {},
   "outputs": [
    {
     "name": "stdout",
     "output_type": "stream",
     "text": [
      "Not enough inventory to fulfill orders for mug.\n",
      "Not enough inventory to fulfill orders for mug.\n",
      "Not enough inventory to fulfill orders for mug.\n",
      "Not enough inventory to fulfill orders for book.\n",
      "Not enough inventory to fulfill orders for book.\n",
      "Not enough inventory to fulfill orders for book.\n",
      "Updated Inventory:\n",
      "{'t-shirt': 9, 'mug': -3, 'hat': 2, 'book': -3, 'keychain': 6}\n"
     ]
    }
   ],
   "source": [
    "\n",
    "def update_inventory(customer_orders,inventory):\n",
    "    for item in customer_orders:\n",
    "        if item in inventory:\n",
    "            try:\n",
    "                inventory[item] -= 1\n",
    "                if inventory[item] < 0:\n",
    "                    raise ValueError(f\"Not enough inventory to fulfill orders for {item}.\")\n",
    "            except ValueError as e:\n",
    "                print(e)\n",
    "        else:\n",
    "            print(f\"No inventory available for {item}.\")\n",
    "    return inventory\n",
    "\n",
    "updated_inventory=update_inventory(customer_orders,inventory)\n",
    "print(\"Updated Inventory:\")\n",
    "print(updated_inventory)"
   ]
  },
  {
   "cell_type": "code",
   "execution_count": 13,
   "id": "318c1710",
   "metadata": {},
   "outputs": [
    {
     "name": "stdout",
     "output_type": "stream",
     "text": [
      "Order Statistics: (5, 5, 100, 5)\n"
     ]
    }
   ],
   "source": [
    "#I had to ask chat GPT for help with this one. I had no idea where error handling would come into play.\n",
    "#Useful example because it gave me a better sense of the bredth of use cases for error handling.\n",
    "\n",
    "customer_orders = [\"t-shirt\", \"mug\", \"hat\", \"book\", \"keychain\"]\n",
    "products = ['t-shirt', 'mug', 'hat', 'book', 'keychain'] #If I delete all products from this list and run the cell it raises the error \"Error: Number of products cannot be zero.\"\n",
    "\n",
    "def calculate_order_statistics(customer_orders, products):\n",
    "    try:\n",
    "        nb_ordered = len(customer_orders)\n",
    "        nb_ordered_unique = len(set(customer_orders))\n",
    "        nb_products = len(products)\n",
    "\n",
    "        if nb_products == 0:\n",
    "            raise ValueError(\"Number of products cannot be zero.\")\n",
    "\n",
    "        percentage_prod_ordered = round(nb_ordered_unique / nb_products * 100)\n",
    "        return nb_ordered, nb_products, percentage_prod_ordered, nb_ordered_unique\n",
    "    \n",
    "    except ZeroDivisionError:\n",
    "        print(\"Error: Number of products cannot be zero.\")\n",
    "        return None\n",
    "    \n",
    "    except Exception as e:\n",
    "        print(f\"An error occurred: {str(e)}\")\n",
    "        return None\n",
    "    \n",
    "\n",
    "order_statistics = calculate_order_statistics(customer_orders, products)\n",
    "print(\"Order Statistics:\", order_statistics)"
   ]
  },
  {
   "cell_type": "code",
   "execution_count": 20,
   "id": "2ed3df1c",
   "metadata": {},
   "outputs": [
    {
     "name": "stdout",
     "output_type": "stream",
     "text": [
      "Total products ordered: 5\n",
      "Total unique products ordered: 5\n",
      "This order includes 5 of 5 total available products - or 100% of all products.\n"
     ]
    }
   ],
   "source": [
    "#\n",
    "\n",
    "def print_order_statistics(order_statistics):\n",
    "    if order_statistics is None:\n",
    "        print(\"Error: Unable to print order statistics.\")\n",
    "        return\n",
    "    \n",
    "    nb_ordered, nb_products, percentage_prod_ordered, nb_ordered_unique = order_statistics\n",
    "    stat1 = f\"Total products ordered: {nb_ordered}\"\n",
    "    stat2 = f\"Total unique products ordered: {nb_ordered_unique}\"\n",
    "    stat3 =f\"This order includes {nb_ordered_unique} of {nb_products} total available products - or {percentage_prod_ordered}% of all products.\"\n",
    "    print(stat1)\n",
    "    print(stat2)\n",
    "    print(stat3)\n",
    "\n",
    "print_order_statistics(order_statistics)"
   ]
  },
  {
   "cell_type": "code",
   "execution_count": 23,
   "id": "4d048856",
   "metadata": {},
   "outputs": [
    {
     "name": "stdout",
     "output_type": "stream",
     "text": [
      "Error: Unable to print order statistics.\n"
     ]
    }
   ],
   "source": [
    "print_order_statistics(None)"
   ]
  },
  {
   "cell_type": "code",
   "execution_count": 25,
   "id": "601ec446",
   "metadata": {},
   "outputs": [
    {
     "name": "stdout",
     "output_type": "stream",
     "text": [
      "Error: Incomplete or invalid order statistics provided. Unable to print order statistics.\n"
     ]
    }
   ],
   "source": [
    "def print_order_statistics(order_statistics):\n",
    "    try:\n",
    "        nb_ordered, nb_products, percentage_prod_ordered, nb_ordered_unique = order_statistics\n",
    "\n",
    "        stat1 = f\"Total products ordered: {nb_ordered}\"\n",
    "        stat2 = f\"Total unique products ordered: {nb_ordered_unique}\"\n",
    "        stat3 = f\"This order includes {nb_ordered_unique} of {nb_products} total available products - or {percentage_prod_ordered}% of all products.\"\n",
    "\n",
    "        print(stat1)\n",
    "        print(stat2)\n",
    "        print(stat3)\n",
    "    except ValueError:\n",
    "        print(\"Error: Incomplete or invalid order statistics provided. Unable to print order statistics.\")\n",
    "\n",
    "# Test scenario: pass incomplete or invalid data to print_order_statistics\n",
    "order_statistics = (10, 5, 80)  # Missing one value (nb_ordered_unique)\n",
    "print_order_statistics(order_statistics)"
   ]
  }
 ],
 "metadata": {
  "kernelspec": {
   "display_name": "Python 3 (ipykernel)",
   "language": "python",
   "name": "python3"
  },
  "language_info": {
   "codemirror_mode": {
    "name": "ipython",
    "version": 3
   },
   "file_extension": ".py",
   "mimetype": "text/x-python",
   "name": "python",
   "nbconvert_exporter": "python",
   "pygments_lexer": "ipython3",
   "version": "3.11.5"
  }
 },
 "nbformat": 4,
 "nbformat_minor": 5
}
